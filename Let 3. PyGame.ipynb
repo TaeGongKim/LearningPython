{
 "cells": [
  {
   "cell_type": "code",
   "execution_count": 18,
   "metadata": {},
   "outputs": [],
   "source": [
    "import sys\n",
    "import pygame\n",
    "from pygame.locals import QUIT, Rect"
   ]
  },
  {
   "cell_type": "code",
   "execution_count": 15,
   "metadata": {},
   "outputs": [
    {
     "ename": "SystemExit",
     "evalue": "",
     "output_type": "error",
     "traceback": [
      "An exception has occurred, use %tb to see the full traceback.\n",
      "\u001b[1;31mSystemExit\u001b[0m\n"
     ]
    }
   ],
   "source": [
    "pygame.init()\n",
    "SURFACE = pygame.display.set_mode((400, 300))\n",
    "pygame.display.set_caption('Just Window')\n",
    "\n",
    "def main():\n",
    "    \"\"\"main routine\"\"\"\n",
    "    \n",
    "    while True:\n",
    "        SURFACE.fill((0, 0, 0))\n",
    "        \n",
    "        for event in pygame.event.get():\n",
    "            if event.type == QUIT:\n",
    "                pygame.quit()\n",
    "                sys.exit()\n",
    "    \n",
    "        pygame.display.update()\n",
    "\n",
    "if __name__ == '__main__':\n",
    "    main()"
   ]
  },
  {
   "cell_type": "code",
   "execution_count": 16,
   "metadata": {},
   "outputs": [
    {
     "ename": "SystemExit",
     "evalue": "",
     "output_type": "error",
     "traceback": [
      "An exception has occurred, use %tb to see the full traceback.\n",
      "\u001b[1;31mSystemExit\u001b[0m\n"
     ]
    }
   ],
   "source": [
    "pygame.init()\n",
    "SURFACE = pygame.display.set_mode((400, 300))\n",
    "pygame.display.set_caption('Second Window')\n",
    "\n",
    "def main():\n",
    "    \"\"\"main routine\"\"\"\n",
    "    sysfont = pygame.font.SysFont(None, 36)\n",
    "    counter = 0\n",
    "    \n",
    "    while True:        \n",
    "        for event in pygame.event.get():\n",
    "            if event.type == QUIT:\n",
    "                pygame.quit()\n",
    "                sys.exit()\n",
    "        counter += 1\n",
    "        SURFACE.fill((0, 0, 0))\n",
    "        count_image = sysfont.render(\"count is {}\".format(counter), True, (255, 255, 255))\n",
    "        SURFACE.blit(count_image, (50, 50))\n",
    "        pygame.display.update()\n",
    "\n",
    "if __name__ == '__main__':\n",
    "    main()"
   ]
  },
  {
   "cell_type": "code",
   "execution_count": 17,
   "metadata": {},
   "outputs": [
    {
     "ename": "SystemExit",
     "evalue": "",
     "output_type": "error",
     "traceback": [
      "An exception has occurred, use %tb to see the full traceback.\n",
      "\u001b[1;31mSystemExit\u001b[0m\n"
     ]
    },
    {
     "name": "stderr",
     "output_type": "stream",
     "text": [
      "C:\\ProgramData\\Anaconda3\\lib\\site-packages\\IPython\\core\\interactiveshell.py:3351: UserWarning: To exit: use 'exit', 'quit', or Ctrl-D.\n",
      "  warn(\"To exit: use 'exit', 'quit', or Ctrl-D.\", stacklevel=1)\n"
     ]
    }
   ],
   "source": [
    "pygame.init()\n",
    "SURFACE = pygame.display.set_mode((400, 300))\n",
    "FPSCLOCK = pygame.time.Clock()\n",
    "pygame.display.set_caption('Update Frame Window')\n",
    "\n",
    "def main():\n",
    "    \"\"\"main routine\"\"\"\n",
    "    sysfont = pygame.font.SysFont(None, 36)\n",
    "    counter = 0\n",
    "    \n",
    "    while True:        \n",
    "        for event in pygame.event.get():\n",
    "            if event.type == QUIT:\n",
    "                pygame.quit()\n",
    "                sys.exit()\n",
    "                \n",
    "        counter += 1\n",
    "        SURFACE.fill((0, 0, 0))\n",
    "        count_image = sysfont.render(\"count is {}\".format(counter), True, (255, 255, 255))\n",
    "        SURFACE.blit(count_image, (50, 50))\n",
    "        pygame.display.update()\n",
    "        FPSCLOCK.tick(10) # 1 초에 10회 루프\n",
    "\n",
    "if __name__ == '__main__':\n",
    "    main()"
   ]
  },
  {
   "cell_type": "code",
   "execution_count": 19,
   "metadata": {},
   "outputs": [
    {
     "ename": "SystemExit",
     "evalue": "",
     "output_type": "error",
     "traceback": [
      "An exception has occurred, use %tb to see the full traceback.\n",
      "\u001b[1;31mSystemExit\u001b[0m\n"
     ]
    },
    {
     "name": "stderr",
     "output_type": "stream",
     "text": [
      "C:\\ProgramData\\Anaconda3\\lib\\site-packages\\IPython\\core\\interactiveshell.py:3351: UserWarning: To exit: use 'exit', 'quit', or Ctrl-D.\n",
      "  warn(\"To exit: use 'exit', 'quit', or Ctrl-D.\", stacklevel=1)\n"
     ]
    }
   ],
   "source": [
    "pygame.init()\n",
    "SURFACE = pygame.display.set_mode((400, 300))\n",
    "FPSCLOCK = pygame.time.Clock()\n",
    "pygame.display.set_caption('square draw Window')\n",
    "\n",
    "def main():\n",
    "    \"\"\"main routine\"\"\"\n",
    "    \n",
    "    while True:        \n",
    "        for event in pygame.event.get():\n",
    "            if event.type == QUIT:\n",
    "                pygame.quit()\n",
    "                sys.exit()\n",
    "                \n",
    "        SURFACE.fill((255, 255, 255))\n",
    "        \n",
    "        # 속이 빨간색으로 찬 직사각형\n",
    "        pygame.draw.rect(SURFACE, (255, 0, 0), (10, 20, 100, 50))\n",
    "        \n",
    "        # 빨간색 직사각형\n",
    "        pygame.draw.rect(SURFACE, (255, 0, 0), (150, 10, 100, 30), 3)\n",
    "        \n",
    "        # 녹색 직사각형\n",
    "        pygame.draw.rect(SURFACE, (0, 255, 0), ((100, 80), (80, 50)))\n",
    "        \n",
    "        # 파란색 직사각형\n",
    "        rect0 = Rect(200, 60, 140, 80)\n",
    "        pygame.draw.rect(SURFACE, (0, 0, 255), rect0)\n",
    "        \n",
    "        # 노란색 직사각형\n",
    "        rect1 = Rect((30, 160), (100, 50))\n",
    "        pygame.draw.rect(SURFACE, (255, 255, 0), rect1)\n",
    "        \n",
    "        pygame.display.update()\n",
    "        FPSCLOCK.tick(3) # 1 초에 3회 루프\n",
    "\n",
    "if __name__ == '__main__':\n",
    "    main()"
   ]
  },
  {
   "cell_type": "code",
   "execution_count": null,
   "metadata": {},
   "outputs": [],
   "source": []
  }
 ],
 "metadata": {
  "kernelspec": {
   "display_name": "Python 3",
   "language": "python",
   "name": "python3"
  },
  "language_info": {
   "codemirror_mode": {
    "name": "ipython",
    "version": 3
   },
   "file_extension": ".py",
   "mimetype": "text/x-python",
   "name": "python",
   "nbconvert_exporter": "python",
   "pygments_lexer": "ipython3",
   "version": "3.8.3"
  }
 },
 "nbformat": 4,
 "nbformat_minor": 4
}
